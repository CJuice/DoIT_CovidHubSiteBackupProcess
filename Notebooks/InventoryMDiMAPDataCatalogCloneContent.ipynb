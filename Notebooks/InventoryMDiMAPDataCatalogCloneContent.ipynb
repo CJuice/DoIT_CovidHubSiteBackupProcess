{
 "cells": [
  {
   "cell_type": "markdown",
   "metadata": {},
   "source": [
    "# Imports"
   ]
  },
  {
   "cell_type": "code",
   "execution_count": 8,
   "metadata": {},
   "outputs": [],
   "source": [
    "from arcgis.gis import GIS\n",
    "import configparser\n",
    "import os"
   ]
  },
  {
   "cell_type": "markdown",
   "metadata": {},
   "source": [
    "# Variables"
   ]
  },
  {
   "cell_type": "code",
   "execution_count": 9,
   "metadata": {},
   "outputs": [],
   "source": [
    "# Credentials access and variable creation\n",
    "credentials_file = fr\"..\\Credentials\\Credentials.cfg\"\n",
    "config_parser = configparser.ConfigParser()\n",
    "config_parser.read(credentials_file)\n",
    "md_hub_url = config_parser[\"DEFAULT\"][\"url_maps\"]\n",
    "md_hub_admin = config_parser[\"DEFAULT\"][\"login\"]\n",
    "md_hub_pwd = config_parser[\"DEFAULT\"][\"password\"]"
   ]
  },
  {
   "cell_type": "markdown",
   "metadata": {},
   "source": [
    "# Functions"
   ]
  },
  {
   "cell_type": "code",
   "execution_count": 10,
   "metadata": {},
   "outputs": [],
   "source": [
    "def find_cloned_keywords(title):\n",
    "    clone_keywords = [\"backup\", \"copy\", \"copied\", \"clone\", \"cloned\"]\n",
    "    title = title.lower()\n",
    "    for keyword in clone_keywords:\n",
    "        if keyword in title:\n",
    "            return True\n",
    "    return False"
   ]
  },
  {
   "cell_type": "code",
   "execution_count": 11,
   "metadata": {},
   "outputs": [],
   "source": [
    "def toggle_delete_protection(item_id, title):\n",
    "    item_of_interest = gis.content.get(item_id)\n",
    "    \n",
    "    # Before\n",
    "    delete_details_dict = item_of_interest.delete(force=False, dry_run=True)\n",
    "    can_delete_item = delete_details_dict.get(\"can_delete\")\n",
    "    print(f\"Delete:{can_delete_item}, Item: {title}\")\n",
    "    \n",
    "    # Take action\n",
    "    if not can_delete_item:\n",
    "        item_of_interest.protect(enable=False)\n",
    "    \n",
    "    # After\n",
    "    delete_details_dict = item_of_interest.delete(force=False, dry_run=True)\n",
    "    can_delete_item = delete_details_dict.get(\"can_delete\")\n",
    "    print(f\"\\tDelete:{can_delete_item}\")\n",
    "\n",
    "    return        "
   ]
  },
  {
   "cell_type": "code",
   "execution_count": null,
   "metadata": {
    "scrolled": false
   },
   "outputs": [],
   "source": [
    "def delete_item(item_id, title):\n",
    "    item_of_interest = gis.content.get(item_id)\n",
    "    \n",
    "    try:\n",
    "        result = item_of_interest.delete()\n",
    "    except RuntimeError as rte:\n",
    "        result = rte\n",
    "\n",
    "    print(f\"Delete Item: {title}\")\n",
    "    print(f\"\\t{result}\")\n",
    "\n",
    "    return "
   ]
  },
  {
   "cell_type": "markdown",
   "metadata": {},
   "source": [
    "# Functionality"
   ]
  },
  {
   "cell_type": "markdown",
   "metadata": {},
   "source": [
    "### Create a gis connection and get the users in the hub"
   ]
  },
  {
   "cell_type": "code",
   "execution_count": 12,
   "metadata": {},
   "outputs": [],
   "source": [
    "gis = GIS(url=md_hub_url, username=md_hub_admin, password=md_hub_pwd)"
   ]
  },
  {
   "cell_type": "markdown",
   "metadata": {},
   "source": [
    "### Get the mdimapdatacatalog user object"
   ]
  },
  {
   "cell_type": "code",
   "execution_count": 14,
   "metadata": {},
   "outputs": [],
   "source": [
    "mdimapdatacatalog_user = gis.users.get(\"mdimapdatacatalog\")"
   ]
  },
  {
   "cell_type": "markdown",
   "metadata": {},
   "source": [
    "### Get the list of folders in the account"
   ]
  },
  {
   "cell_type": "code",
   "execution_count": 16,
   "metadata": {},
   "outputs": [],
   "source": [
    "mdimap_folder_objs_list = mdimapdatacatalog_user.folders"
   ]
  },
  {
   "cell_type": "markdown",
   "metadata": {},
   "source": [
    "### Get the content in the root folder"
   ]
  },
  {
   "cell_type": "code",
   "execution_count": 17,
   "metadata": {},
   "outputs": [
    {
     "data": {
      "text/plain": [
       "1014"
      ]
     },
     "execution_count": 17,
     "metadata": {},
     "output_type": "execute_result"
    }
   ],
   "source": [
    "root_folder_content_list = mdimapdatacatalog_user.items(folder=None, max_items=5000)\n",
    "len(root_folder_content_list)"
   ]
  },
  {
   "cell_type": "markdown",
   "metadata": {},
   "source": [
    "### Build a dictionary of items in the root folder with key: value of item id: item title"
   ]
  },
  {
   "cell_type": "code",
   "execution_count": 18,
   "metadata": {},
   "outputs": [],
   "source": [
    "item_id_title_dict = {item_obj.id: item_obj.title for item_obj in root_folder_content_list}"
   ]
  },
  {
   "cell_type": "markdown",
   "metadata": {},
   "source": [
    "### Search for clone related content using function"
   ]
  },
  {
   "cell_type": "code",
   "execution_count": 19,
   "metadata": {},
   "outputs": [
    {
     "data": {
      "text/plain": [
       "0"
      ]
     },
     "execution_count": 19,
     "metadata": {},
     "output_type": "execute_result"
    }
   ],
   "source": [
    "clone_related_content = ({item_id: title for item_id, title in item_id_title_dict.items() \n",
    "                          if find_cloned_keywords(title)})\n",
    "len(clone_related_content)"
   ]
  },
  {
   "cell_type": "code",
   "execution_count": 20,
   "metadata": {},
   "outputs": [
    {
     "data": {
      "text/plain": [
       "{}"
      ]
     },
     "execution_count": 20,
     "metadata": {},
     "output_type": "execute_result"
    }
   ],
   "source": [
    "clone_related_content"
   ]
  },
  {
   "cell_type": "markdown",
   "metadata": {},
   "source": [
    "### Toggle delete protection on the clone related content"
   ]
  },
  {
   "cell_type": "code",
   "execution_count": 21,
   "metadata": {
    "scrolled": true
   },
   "outputs": [],
   "source": [
    "for item_id, title in clone_related_content.items():\n",
    "    toggle_delete_protection(item_id=item_id, title=title)"
   ]
  },
  {
   "cell_type": "markdown",
   "metadata": {},
   "source": [
    "### Delete clone related content"
   ]
  },
  {
   "cell_type": "code",
   "execution_count": 22,
   "metadata": {},
   "outputs": [],
   "source": [
    "for item_id, title in clone_related_content.items():\n",
    "    delete_item(item_id=item_id, title=title)"
   ]
  },
  {
   "cell_type": "code",
   "execution_count": null,
   "metadata": {},
   "outputs": [],
   "source": []
  }
 ],
 "metadata": {
  "kernelspec": {
   "display_name": "Python 3",
   "language": "python",
   "name": "python3"
  },
  "language_info": {
   "codemirror_mode": {
    "name": "ipython",
    "version": 3
   },
   "file_extension": ".py",
   "mimetype": "text/x-python",
   "name": "python",
   "nbconvert_exporter": "python",
   "pygments_lexer": "ipython3",
   "version": "3.7.6"
  }
 },
 "nbformat": 4,
 "nbformat_minor": 4
}
