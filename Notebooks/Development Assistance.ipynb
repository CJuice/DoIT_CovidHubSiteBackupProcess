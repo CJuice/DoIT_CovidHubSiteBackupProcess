{
 "cells": [
  {
   "cell_type": "markdown",
   "metadata": {},
   "source": [
    "# Resources\n",
    "https://developers.arcgis.com/python/api-reference/arcgis.gis.toc.html#contentmanager\n",
    "\n",
    "https://developers.arcgis.com/python/api-reference/arcgis.gis.toc.html#item"
   ]
  },
  {
   "cell_type": "markdown",
   "metadata": {},
   "source": [
    "# IMPORTS"
   ]
  },
  {
   "cell_type": "code",
   "execution_count": null,
   "metadata": {},
   "outputs": [],
   "source": [
    "from arcgishub import hub\n",
    "from arcgis.gis import GIS\n",
    "\n",
    "import configparser\n",
    "import datetime\n",
    "import json\n",
    "import os"
   ]
  },
  {
   "cell_type": "markdown",
   "metadata": {},
   "source": [
    "# VARIABLES"
   ]
  },
  {
   "cell_type": "code",
   "execution_count": null,
   "metadata": {},
   "outputs": [],
   "source": [
    "# # # initiative_id = \"5a9bc8dfb3e54817ac61fa4d8aa33cc0\"  # PROD\n",
    "initiative_id = \"5d230c46f10b4c91a60c54e9bca879b6\"  # J's demo site cloned to mdimapdatacatalog account\n",
    "\n",
    "# Credentials access and variable creation\n",
    "credentials_file = fr\"..\\Credentials\\Credentials.cfg\"\n",
    "\n",
    "assert os.path.exists(credentials_file)\n",
    "config_parser = configparser.ConfigParser()\n",
    "config_parser.read(credentials_file)\n",
    "\n",
    "# md_url = config_parser[\"DEFAULT\"][\"url_hub\"]\n",
    "md_url = config_parser[\"DEFAULT\"][\"url_maps\"]\n",
    "md_admin = config_parser[\"DEFAULT\"][\"login\"]\n",
    "md_pwd = config_parser[\"DEFAULT\"][\"password\"]\n",
    "\n",
    "# Destination folder for clones\n",
    "clone_to_folder = \"Hub Clone Automation DEVELOPMENT\""
   ]
  },
  {
   "cell_type": "code",
   "execution_count": null,
   "metadata": {},
   "outputs": [],
   "source": [
    "# Check on the creds being used\n",
    "# print(f\"URL: {md_url}\")\n",
    "# print(f\"ADMIN: {md_admin}\")\n",
    "# print(f\"PWD: {md_pwd}\")"
   ]
  },
  {
   "cell_type": "markdown",
   "metadata": {},
   "source": [
    "# FUNCTIONALITY"
   ]
  },
  {
   "cell_type": "markdown",
   "metadata": {},
   "source": [
    "### Standard ArcGIS API for Python\n",
    "Notes: Using the standard clone items method only seems to clone the initiative and not the entire package. Also, don't seem to have control over the name and location"
   ]
  },
  {
   "cell_type": "code",
   "execution_count": null,
   "metadata": {},
   "outputs": [],
   "source": [
    "# Create a gis connection with regular arcgis api and explore visibility of target initiative\n",
    "gis = GIS(url=md_url, username=md_admin, password=md_pwd) # \"old\" way\n",
    "my_hub_standard = gis.hub"
   ]
  },
  {
   "cell_type": "code",
   "execution_count": null,
   "metadata": {},
   "outputs": [],
   "source": [
    "# Searches for all initiatives visible to the account being used - takes a little time to run\n",
    "# my_hub_standard.initiatives.search()"
   ]
  },
  {
   "cell_type": "code",
   "execution_count": null,
   "metadata": {
    "scrolled": true
   },
   "outputs": [],
   "source": [
    "target_initiative_standard = my_hub_standard.initiatives.get(initiative_id)\n",
    "item_standard = target_initiative_standard.item"
   ]
  },
  {
   "cell_type": "code",
   "execution_count": null,
   "metadata": {},
   "outputs": [],
   "source": [
    "# Clone item using the standard arcgis api\n",
    "cloned = gis.content.clone_items([item_standard], folder=clone_to_folder)\n",
    "cloned\n",
    "# NOTE: This only seems to clone the initiative and not the entire package. \n",
    "#  Also, don't seem to have control over the name and location"
   ]
  },
  {
   "cell_type": "code",
   "execution_count": null,
   "metadata": {},
   "outputs": [],
   "source": [
    "for item_obj in cloned:\n",
    "    print(item_obj.title)\n",
    "    print(item_obj.id)\n",
    "    print(item_obj.owner)"
   ]
  },
  {
   "cell_type": "markdown",
   "metadata": {},
   "source": [
    "### \"New\" arcgishub Module\n",
    "Notes: Succeeding in cloning site and app, and moving items to the backup folder. But, they don't load in a browser. You receive an error message like \"Domain lookup for 03_30_20-21_22-backup-dev-clone-process-orig-init-maryland.hub.arcgis.com failed with code: undefined\""
   ]
  },
  {
   "cell_type": "code",
   "execution_count": null,
   "metadata": {},
   "outputs": [],
   "source": [
    "# Create a connection to the hub using the \"new\" arcgishub module and explore visibility of target initiative\n",
    "my_hub_arcgishub = hub.Hub(url=md_url, username=md_admin, password=md_pwd)"
   ]
  },
  {
   "cell_type": "code",
   "execution_count": null,
   "metadata": {},
   "outputs": [],
   "source": [
    "# Searches for all initiatives visible to the account being used - takes a little time to run\n",
    "# my_hub_arcgishub.initiatives.search()"
   ]
  },
  {
   "cell_type": "code",
   "execution_count": null,
   "metadata": {},
   "outputs": [],
   "source": [
    "# Gets a specific initiative\n",
    "target_initiative_arcgishub = my_hub_arcgishub.initiatives.get(initiative_id)\n",
    "target_initiative_arcgishub.item"
   ]
  },
  {
   "cell_type": "code",
   "execution_count": null,
   "metadata": {},
   "outputs": [],
   "source": [
    "current_title_arcgishub = target_initiative_arcgishub.title\n",
    "current_title_arcgishub"
   ]
  },
  {
   "cell_type": "code",
   "execution_count": null,
   "metadata": {},
   "outputs": [],
   "source": [
    "# Clone name backup text, must be reset each time a clone is requested or the stored value leads to duplication issue\n",
    "# TODO: Search for a format that doesn't result in an unusable url\n",
    "date_format = \"%y%m%d-%H%M\"\n",
    "backup_text = f\"DEVCovidBackup-{datetime.datetime.now().strftime(date_format)}\"\n",
    "\n",
    "# This seems to take a few minutes to complete\n",
    "cloned_initiative_arcgishub = my_hub_arcgishub.initiatives.clone(target_initiative_arcgishub, title=f\"{backup_text}\")\n",
    "cloned_initiative_arcgishub"
   ]
  },
  {
   "cell_type": "code",
   "execution_count": null,
   "metadata": {},
   "outputs": [],
   "source": [
    "site2 = my_hub_arcgishub.sites.get(cloned_initiative_arcgishub.site_id)\n",
    "site2.item"
   ]
  },
  {
   "cell_type": "code",
   "execution_count": null,
   "metadata": {},
   "outputs": [],
   "source": [
    "# Move item to backup folder\n",
    "move_initiative_result = cloned_initiative_arcgishub.item.move(folder=clone_to_folder)\n",
    "move_initiative_result"
   ]
  },
  {
   "cell_type": "code",
   "execution_count": null,
   "metadata": {},
   "outputs": [],
   "source": [
    "# Note: Initially only moved the application and not the initiative to the backup folder\n",
    "# EXCEPTION thrown when item already exists in folder, either because of duplicated names or item already in folder\n",
    "move_asset_result = site2.item.move(folder=clone_to_folder)\n",
    "move_asset_result"
   ]
  },
  {
   "cell_type": "markdown",
   "metadata": {},
   "source": [
    "# Moved successful code to py script for continuation of development"
   ]
  },
  {
   "cell_type": "code",
   "execution_count": null,
   "metadata": {},
   "outputs": [],
   "source": []
  }
 ],
 "metadata": {
  "kernelspec": {
   "display_name": "Python 3",
   "language": "python",
   "name": "python3"
  },
  "language_info": {
   "codemirror_mode": {
    "name": "ipython",
    "version": 3
   },
   "file_extension": ".py",
   "mimetype": "text/x-python",
   "name": "python",
   "nbconvert_exporter": "python",
   "pygments_lexer": "ipython3",
   "version": "3.7.6"
  }
 },
 "nbformat": 4,
 "nbformat_minor": 4
}
