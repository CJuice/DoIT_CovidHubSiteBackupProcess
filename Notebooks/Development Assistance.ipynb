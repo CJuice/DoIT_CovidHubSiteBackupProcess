{
 "cells": [
  {
   "cell_type": "markdown",
   "metadata": {},
   "source": [
    "# IMPORTS"
   ]
  },
  {
   "cell_type": "code",
   "execution_count": 1,
   "metadata": {},
   "outputs": [],
   "source": [
    "from arcgishub import hub\n",
    "from arcgis.gis import GIS\n",
    "\n",
    "import configparser\n",
    "import json\n",
    "import os\n"
   ]
  },
  {
   "cell_type": "markdown",
   "metadata": {},
   "source": [
    "# VARIABLES"
   ]
  },
  {
   "cell_type": "code",
   "execution_count": 4,
   "metadata": {},
   "outputs": [],
   "source": [
    "# initiative_id = \"5a9bc8dfb3e54817ac61fa4d8aa33cc0\"  # PROD\n",
    "initiative_id = \"5d230c46f10b4c91a60c54e9bca879b6\"  # J's demo site cloned to mdimapdatacatalog account\n",
    "\n",
    "# Credentials access and variable creation\n",
    "credentials_file = fr\"..\\Credentials\\Credentials.cfg\"\n",
    "\n",
    "assert os.path.exists(credentials_file)\n",
    "config_parser = configparser.ConfigParser()\n",
    "config_parser.read(credentials_file)\n",
    "\n",
    "# md_url = config_parser[\"DEFAULT\"][\"url_hub\"]\n",
    "md_url = config_parser[\"DEFAULT\"][\"url_maps\"]\n",
    "md_admin = config_parser[\"DEFAULT\"][\"login\"]\n",
    "md_pwd = config_parser[\"DEFAULT\"][\"password\"]\n"
   ]
  },
  {
   "cell_type": "markdown",
   "metadata": {},
   "source": [
    "# FUNCTIONALITY"
   ]
  },
  {
   "cell_type": "code",
   "execution_count": 7,
   "metadata": {},
   "outputs": [],
   "source": [
    "# Check on the creds being used\n",
    "# print(f\"URL: {md_url}\")\n",
    "# print(f\"ADMIN: {md_admin}\")\n",
    "# print(f\"PWD: {md_pwd}\")"
   ]
  },
  {
   "cell_type": "code",
   "execution_count": null,
   "metadata": {},
   "outputs": [],
   "source": [
    "# Create a gis connection with regular arcgis api\n",
    "gis = GIS(url=md_url, username=md_admin, password=md_pwd) # \"old\" way\n",
    "my_hub = gis.hub\n",
    "prod_initiative = my_hub.initiatives.get(initiative_id)\n",
    "prod_initiative.site_url"
   ]
  },
  {
   "cell_type": "code",
   "execution_count": null,
   "metadata": {},
   "outputs": [],
   "source": [
    "# Create a connection to the hub using the \"new\" arcgishub module\n",
    "my_hub = hub.Hub(url=md_url, username=md_admin, password=md_pwd)\n",
    "print(my_hub.enterprise_org_id)"
   ]
  },
  {
   "cell_type": "code",
   "execution_count": null,
   "metadata": {},
   "outputs": [],
   "source": [
    "# Searches for all initiatives visible to the account being used - takes a little time to run\n",
    "# try:\n",
    "#     print(my_hub.initiatives.search())\n",
    "# except json.JSONDecodeError as jde:\n",
    "#     print(f\"y_hub.initiatives() returned {jde}\")"
   ]
  },
  {
   "cell_type": "code",
   "execution_count": null,
   "metadata": {},
   "outputs": [],
   "source": [
    "# Gets a specific initiative\n",
    "try:\n",
    "    print(my_hub.initiatives.get(initiative_id))\n",
    "except json.JSONDecodeError as jde:\n",
    "    print(f\"y_hub.initiatives() returned {jde}\")"
   ]
  },
  {
   "cell_type": "code",
   "execution_count": null,
   "metadata": {},
   "outputs": [],
   "source": []
  }
 ],
 "metadata": {
  "kernelspec": {
   "display_name": "Python 3",
   "language": "python",
   "name": "python3"
  },
  "language_info": {
   "codemirror_mode": {
    "name": "ipython",
    "version": 3
   },
   "file_extension": ".py",
   "mimetype": "text/x-python",
   "name": "python",
   "nbconvert_exporter": "python",
   "pygments_lexer": "ipython3",
   "version": "3.7.6"
  }
 },
 "nbformat": 4,
 "nbformat_minor": 4
}
