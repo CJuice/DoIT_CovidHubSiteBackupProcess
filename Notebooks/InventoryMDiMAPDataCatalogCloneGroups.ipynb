{
 "cells": [
  {
   "cell_type": "markdown",
   "metadata": {},
   "source": [
    "# IMPORTS"
   ]
  },
  {
   "cell_type": "code",
   "execution_count": 1,
   "metadata": {},
   "outputs": [],
   "source": [
    "from arcgis.gis import GIS\n",
    "import configparser\n",
    "import os"
   ]
  },
  {
   "cell_type": "markdown",
   "metadata": {},
   "source": [
    "# VARIABLES"
   ]
  },
  {
   "cell_type": "code",
   "execution_count": 2,
   "metadata": {},
   "outputs": [],
   "source": [
    "# _root_project_path = os.path.dirname(__file__)\n",
    "\n",
    "# Credentials access and variable creation\n",
    "credentials_file = fr\"..\\Credentials\\Credentials.cfg\"\n",
    "config_parser = configparser.ConfigParser()\n",
    "config_parser.read(credentials_file)\n",
    "md_hub_url = config_parser[\"DEFAULT\"][\"url_maps\"]\n",
    "md_hub_admin = config_parser[\"DEFAULT\"][\"login\"]\n",
    "md_hub_pwd = config_parser[\"DEFAULT\"][\"password\"]"
   ]
  },
  {
   "cell_type": "markdown",
   "metadata": {},
   "source": [
    "# Functions"
   ]
  },
  {
   "cell_type": "code",
   "execution_count": 3,
   "metadata": {},
   "outputs": [],
   "source": [
    "def find_cloned_keywords(title):\n",
    "    clone_keywords = [\"backup\", \"copied\", \"---maryland-department-of-health\"] #  \"copy\", \"script\", \"clone\",\n",
    "    title = title.lower()\n",
    "    for keyword in clone_keywords:\n",
    "        if keyword in title:\n",
    "            return True\n",
    "    return False\n"
   ]
  },
  {
   "cell_type": "code",
   "execution_count": 4,
   "metadata": {},
   "outputs": [],
   "source": [
    "def toggle_delete_protection(group_id, title):\n",
    "    group_of_interest = gis.groups.get(group_id)\n",
    "    \n",
    "    # Before\n",
    "    print(f\"Delete:{group_of_interest.protected}, Item: {title}\")\n",
    "    \n",
    "    # Take action. \n",
    "    if group_of_interest.protected:\n",
    "        group_of_interest.protected = False\n",
    "        print(f\"\\tDelete:{group_of_interest.protected}\")\n",
    "    else:\n",
    "        pass\n",
    "\n",
    "    return \n",
    "        "
   ]
  },
  {
   "cell_type": "code",
   "execution_count": 5,
   "metadata": {
    "scrolled": false
   },
   "outputs": [],
   "source": [
    "def delete_item(group_id, title):\n",
    "    group_of_interest = gis.groups.get(group_id)\n",
    "    \n",
    "    try:\n",
    "        result = group_of_interest.delete()\n",
    "    except RuntimeError as rte:\n",
    "        result = rte\n",
    "    except Exception as e:\n",
    "        print(f\"Unexpected exception: {e}\")\n",
    "        result = e\n",
    "\n",
    "    print(f\"Delete Item: {title}\")\n",
    "    print(f\"\\t{result}\")\n",
    "\n",
    "    return "
   ]
  },
  {
   "cell_type": "markdown",
   "metadata": {},
   "source": [
    "# Functionality"
   ]
  },
  {
   "cell_type": "code",
   "execution_count": 6,
   "metadata": {},
   "outputs": [],
   "source": [
    "# Create a gis connection and get the users in the hub\n",
    "gis = GIS(url=md_hub_url, username=md_hub_admin, password=md_hub_pwd)"
   ]
  },
  {
   "cell_type": "code",
   "execution_count": 7,
   "metadata": {
    "scrolled": false
   },
   "outputs": [],
   "source": [
    "mdimapdatacatalog_groups_list = gis.groups.search(query=\"owner:mdimapdatacatalog\", max_groups=5000)"
   ]
  },
  {
   "cell_type": "code",
   "execution_count": 8,
   "metadata": {},
   "outputs": [
    {
     "data": {
      "text/plain": [
       "39"
      ]
     },
     "execution_count": 8,
     "metadata": {},
     "output_type": "execute_result"
    }
   ],
   "source": [
    "len(mdimapdatacatalog_groups_list)"
   ]
  },
  {
   "cell_type": "code",
   "execution_count": 9,
   "metadata": {},
   "outputs": [],
   "source": [
    "group_id_title_dict = {group_obj.id: group_obj.title for group_obj in mdimapdatacatalog_groups_list}"
   ]
  },
  {
   "cell_type": "markdown",
   "metadata": {},
   "source": [
    "## Groups TO BE DELETED"
   ]
  },
  {
   "cell_type": "code",
   "execution_count": 10,
   "metadata": {},
   "outputs": [
    {
     "name": "stdout",
     "output_type": "stream",
     "text": [
      "3\n",
      "coronavirus---maryland-department-of-health Content 10\n",
      "coronavirus---maryland-department-of-health Core Team 10\n",
      "coronavirus---maryland-department-of-health Followers 10\n"
     ]
    }
   ],
   "source": [
    "clone_related_content = ({group_id: title for group_id, title in group_id_title_dict.items() \n",
    "                          if find_cloned_keywords(title)})\n",
    "print(len(clone_related_content))\n",
    "for group_id, group_title in clone_related_content.items():\n",
    "    print(group_title)"
   ]
  },
  {
   "cell_type": "markdown",
   "metadata": {
    "scrolled": true
   },
   "source": [
    "# Groups NOT FOR DELETION"
   ]
  },
  {
   "cell_type": "code",
   "execution_count": 11,
   "metadata": {
    "scrolled": true
   },
   "outputs": [
    {
     "name": "stdout",
     "output_type": "stream",
     "text": [
      "36\n",
      "Coronavirus Content\n",
      "Coronavirus Core Team\n",
      "Coronavirus Followers\n",
      "Hub Clone Automation DEV\n",
      "Maryland GIS Data Catalog: Agriculture\n",
      "Maryland GIS Data Catalog: Biota\n",
      "Maryland GIS Data Catalog: Boundaries\n",
      "Maryland GIS Data Catalog: Business Economy\n",
      "Maryland GIS Data Catalog: Demographics\n",
      "Maryland GIS Data Catalog: Education\n",
      "Maryland GIS Data Catalog: Elevation\n",
      "Maryland GIS Data Catalog: Environment\n",
      "Maryland GIS Data Catalog: Geocode Services\n",
      "Maryland GIS Data Catalog: Geometry Services\n",
      "Maryland GIS Data Catalog: Geoprocessing Services\n",
      "Maryland GIS Data Catalog: Geoscientific\n",
      "Maryland GIS Data Catalog: Health\n",
      "Maryland GIS Data Catalog: Historic\n",
      "Maryland GIS Data Catalog: Hydrology\n",
      "Maryland GIS Data Catalog: Imagery\n",
      "Maryland GIS Data Catalog: LiDAR\n",
      "Maryland GIS Data Catalog: Location\n",
      "Maryland GIS Data Catalog: Military\n",
      "Maryland GIS Data Catalog: Planning Cadastre\n",
      "Maryland GIS Data Catalog: Public Safety\n",
      "Maryland GIS Data Catalog: Society\n",
      "Maryland GIS Data Catalog: Structure\n",
      "Maryland GIS Data Catalog: Transportation\n",
      "Maryland GIS Data Catalog: Utility Telecommunications\n",
      "Maryland GIS Data Catalog: Weather\n",
      "Maryland State Properties Group\n",
      "MD iMAP Portal Gallery\n",
      "Open Data Collaboration Group\n",
      "test1 Content\n",
      "test1 Core Team\n",
      "test1 Followers\n"
     ]
    }
   ],
   "source": [
    "NOT_TO_BE_DELETED = ({group_id: title for group_id, title in group_id_title_dict.items() \n",
    "                              if not find_cloned_keywords(title)})\n",
    "print(len(NOT_TO_BE_DELETED))\n",
    "for group_id, group_title in NOT_TO_BE_DELETED.items():\n",
    "    print(group_title)"
   ]
  },
  {
   "cell_type": "markdown",
   "metadata": {},
   "source": [
    "## Toggle Delete Protection"
   ]
  },
  {
   "cell_type": "code",
   "execution_count": 12,
   "metadata": {
    "scrolled": true
   },
   "outputs": [
    {
     "name": "stdout",
     "output_type": "stream",
     "text": [
      "Delete:True, Item: coronavirus---maryland-department-of-health Content 10\n",
      "\tDelete:False\n",
      "Delete:True, Item: coronavirus---maryland-department-of-health Core Team 10\n",
      "\tDelete:False\n",
      "Delete:True, Item: coronavirus---maryland-department-of-health Followers 10\n",
      "\tDelete:False\n"
     ]
    }
   ],
   "source": [
    "for group_id, title in clone_related_content.items():\n",
    "    toggle_delete_protection(group_id=group_id, title=title)"
   ]
  },
  {
   "cell_type": "markdown",
   "metadata": {},
   "source": [
    "# DELETE GROUPS"
   ]
  },
  {
   "cell_type": "code",
   "execution_count": 13,
   "metadata": {
    "scrolled": true
   },
   "outputs": [
    {
     "name": "stdout",
     "output_type": "stream",
     "text": [
      "Delete Item: coronavirus---maryland-department-of-health Content 10\n",
      "\tTrue\n",
      "Delete Item: coronavirus---maryland-department-of-health Core Team 10\n",
      "\tTrue\n",
      "Delete Item: coronavirus---maryland-department-of-health Followers 10\n",
      "\tTrue\n"
     ]
    }
   ],
   "source": [
    "for group_id, title in clone_related_content.items():\n",
    "    delete_item(group_id=group_id, title=title)"
   ]
  },
  {
   "cell_type": "markdown",
   "metadata": {},
   "source": [
    "# Checks On Content After Deletions\n",
    "## TO BE DELETED"
   ]
  },
  {
   "cell_type": "code",
   "execution_count": 14,
   "metadata": {},
   "outputs": [],
   "source": [
    "mdimapdatacatalog_groups_list_afterwards = gis.groups.search(query=\"owner:mdimapdatacatalog\", max_groups=5000)\n",
    "group_id_title_dict_afterwards = {group_obj.id: group_obj.title for group_obj in mdimapdatacatalog_groups_list_afterwards}"
   ]
  },
  {
   "cell_type": "code",
   "execution_count": 15,
   "metadata": {},
   "outputs": [
    {
     "name": "stdout",
     "output_type": "stream",
     "text": [
      "0\n"
     ]
    }
   ],
   "source": [
    "clone_related_content_afterwards = ({group_id: title for group_id, title in group_id_title_dict_afterwards.items() \n",
    "                          if find_cloned_keywords(title)})\n",
    "print(len(clone_related_content_afterwards))\n",
    "for group_id, group_title in clone_related_content_afterwards.items():\n",
    "    print(group_title)"
   ]
  },
  {
   "cell_type": "code",
   "execution_count": null,
   "metadata": {},
   "outputs": [],
   "source": []
  }
 ],
 "metadata": {
  "kernelspec": {
   "display_name": "Python 3",
   "language": "python",
   "name": "python3"
  },
  "language_info": {
   "codemirror_mode": {
    "name": "ipython",
    "version": 3
   },
   "file_extension": ".py",
   "mimetype": "text/x-python",
   "name": "python",
   "nbconvert_exporter": "python",
   "pygments_lexer": "ipython3",
   "version": "3.7.6"
  }
 },
 "nbformat": 4,
 "nbformat_minor": 4
}
